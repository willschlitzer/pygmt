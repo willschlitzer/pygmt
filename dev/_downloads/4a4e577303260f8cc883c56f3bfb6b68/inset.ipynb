{
  "cells": [
    {
      "cell_type": "code",
      "execution_count": null,
      "metadata": {
        "collapsed": false
      },
      "outputs": [],
      "source": [
        "%matplotlib inline"
      ]
    },
    {
      "cell_type": "markdown",
      "metadata": {},
      "source": [
        "\n# Inset\n\nThe :meth:`pygmt.Figure.inset` method adds an inset figure inside a larger\nfigure. The function is called using a ``with`` statement, and its position,\nbox, offset, and margin parameters are set. Within the ``with`` statement,\nPyGMT plotting functions can be called that add to the inset figure.\n"
      ]
    },
    {
      "cell_type": "code",
      "execution_count": null,
      "metadata": {
        "collapsed": false
      },
      "outputs": [],
      "source": [
        "import pygmt\n\nfig = pygmt.Figure()\n# Create the primary figure, setting the region to Madagascar, the land color to\n# \"brown\", the water to \"lightblue\", the shorelines width to \"thin\", and adding a frame\nfig.coast(region=\"MG+r2\", land=\"brown\", water=\"lightblue\", shorelines=\"thin\", frame=\"a\")\n# Create an inset, setting the position to top left, the width to 3.5 centimeters, and\n# the x- and y-offsets to 0.2 centimeters. The margin is set to 0, and the border is \"green\".\nwith fig.inset(position=\"jTL+w3.5c+o0.2c\", margin=0, box=\"+pgreen\"):\n    # Create a figure in the inset using coast. This example uses the azimuthal\n    # orthogonal projection centered at 47E, 20S. The land is set to \"gray\" and\n    # Madagascar is highlighted in \"red\".\n    fig.coast(\n        region=\"g\", projection=\"G47/-20/3.5c\", land=\"gray\", water=\"white\", dcw=\"MG+gred\"\n    )\nfig.show()"
      ]
    }
  ],
  "metadata": {
    "kernelspec": {
      "display_name": "Python 3",
      "language": "python",
      "name": "python3"
    },
    "language_info": {
      "codemirror_mode": {
        "name": "ipython",
        "version": 3
      },
      "file_extension": ".py",
      "mimetype": "text/x-python",
      "name": "python",
      "nbconvert_exporter": "python",
      "pygments_lexer": "ipython3",
      "version": "3.9.2"
    }
  },
  "nbformat": 4,
  "nbformat_minor": 0
}