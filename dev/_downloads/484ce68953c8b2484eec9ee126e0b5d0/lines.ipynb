{
  "cells": [
    {
      "cell_type": "code",
      "execution_count": null,
      "metadata": {
        "collapsed": false
      },
      "outputs": [],
      "source": [
        "%matplotlib inline"
      ]
    },
    {
      "cell_type": "markdown",
      "metadata": {},
      "source": [
        "\n# Plot lines\n\nPlotting lines is handled by :meth:`pygmt.Figure.plot`.\n\n<div class=\"alert alert-info\"><h4>Note</h4><p>This tutorial assumes the use of a Python notebook, such as IPython or Jupyter Notebook.\n    To see the figures while using a Python script instead, use\n    ``fig.show(method=\"external\")`` to display the figure in the default PDF viewer.\n\n    To save the figure, use ``fig.savefig(\"figname.pdf\")`` where ``\"figname.pdf\"``\n    is the desired name and file extension for the saved figure.</p></div>\n"
      ]
    },
    {
      "cell_type": "code",
      "execution_count": null,
      "metadata": {
        "collapsed": false
      },
      "outputs": [],
      "source": [
        "import pygmt"
      ]
    },
    {
      "cell_type": "markdown",
      "metadata": {},
      "source": [
        "## Plot lines\n\nCreate a Cartesian figure using ``projection`` argument and set the axis scales\nusing ``region`` (in this case, each axis is 0-10). Pass a list of ``x`` and ``y``\nvalues to be plotted as a line.\n\n"
      ]
    },
    {
      "cell_type": "code",
      "execution_count": null,
      "metadata": {
        "collapsed": false
      },
      "outputs": [],
      "source": [
        "fig = pygmt.Figure()\nfig.plot(\n    region=[0, 10, 0, 10],\n    projection=\"X25c/20c\",\n    frame=\"a\",\n    x=[1, 8],\n    y=[5, 9],\n    pen=\"1p,black\",\n)\nfig.show()"
      ]
    },
    {
      "cell_type": "markdown",
      "metadata": {},
      "source": [
        "Additional line segments can be added by including additional values for ``x``\nand ``y``.\n\n"
      ]
    },
    {
      "cell_type": "code",
      "execution_count": null,
      "metadata": {
        "collapsed": false
      },
      "outputs": [],
      "source": [
        "fig = pygmt.Figure()\nfig.plot(\n    region=[0, 10, 0, 10],\n    projection=\"X25c/20c\",\n    frame=\"a\",\n    x=[1, 6, 9],\n    y=[5, 7, 4],\n    pen=\"1p,black\",\n)\nfig.show()"
      ]
    },
    {
      "cell_type": "markdown",
      "metadata": {},
      "source": [
        "To plot multiple lines, :meth:`pygmt.Figure.plot` needs to be used for each\nadditional line. Arguments such as ``region``, ``projection``, and ``frame`` do\nnot need to be repeated in subsequent uses.\n\n"
      ]
    },
    {
      "cell_type": "code",
      "execution_count": null,
      "metadata": {
        "collapsed": false
      },
      "outputs": [],
      "source": [
        "fig = pygmt.Figure()\nfig.plot(\n    region=[0, 10, 0, 10],\n    projection=\"X25c/20c\",\n    frame=\"a\",\n    x=[1, 6, 9],\n    y=[5, 7, 4],\n    pen=\"2p,blue\",\n)\nfig.plot(x=[2, 4, 10], y=[3, 8, 9], pen=\"2p,red\")\nfig.show()"
      ]
    },
    {
      "cell_type": "markdown",
      "metadata": {},
      "source": [
        "## Change line attributes\n\nThe line attributes can be set by the ``pen`` argument. ``pen`` takes a string\nargument with the optional values *width*,\\ *color*,\\ *style*.\n\nIn the example below, the pen width is set to ``5p``, and with ``black`` as the\ndefault color and ``solid`` as the default style.\n\n"
      ]
    },
    {
      "cell_type": "code",
      "execution_count": null,
      "metadata": {
        "collapsed": false
      },
      "outputs": [],
      "source": [
        "fig = pygmt.Figure()\nfig.plot(\n    region=[0, 10, 0, 10],\n    projection=\"X25c/20c\",\n    frame=\"a\",\n    x=[1, 8],\n    y=[3, 9],\n    pen=\"5p\",\n)\nfig.show()"
      ]
    },
    {
      "cell_type": "markdown",
      "metadata": {},
      "source": [
        "The line color can be set and is added after the line width to the ``pen`` argument.\nIn the example below, the line color is set to ``red``.\n\n"
      ]
    },
    {
      "cell_type": "code",
      "execution_count": null,
      "metadata": {
        "collapsed": false
      },
      "outputs": [],
      "source": [
        "fig = pygmt.Figure()\nfig.plot(\n    region=[0, 10, 0, 10],\n    projection=\"X25c/20c\",\n    frame=\"a\",\n    x=[1, 8],\n    y=[3, 9],\n    pen=\"5p,red\",\n)\nfig.show()"
      ]
    },
    {
      "cell_type": "markdown",
      "metadata": {},
      "source": [
        "The line style can be set and is added after the line width or color to the\n``pen`` argument.  In the example below, the line style is set to\n``..-`` (*dot dot dash*), and the default color ``black`` is used.\n\n"
      ]
    },
    {
      "cell_type": "code",
      "execution_count": null,
      "metadata": {
        "collapsed": false
      },
      "outputs": [],
      "source": [
        "fig = pygmt.Figure()\nfig.plot(\n    region=[0, 10, 0, 10],\n    projection=\"X25c/20c\",\n    frame=\"a\",\n    x=[1, 8],\n    y=[3, 9],\n    pen=\"5p,..-\",\n)\nfig.show()"
      ]
    },
    {
      "cell_type": "markdown",
      "metadata": {},
      "source": [
        "The line width, color, and style can all be set in the same ``pen`` argument. In the\nexample below, the line width is set to ``7p``, the color is set to ``green``, and the\nline style is ``-.-`` (*dash dot dash*).\n\nFor a gallery showing other ``pen`` settings, see :doc:`/gallery/line/linestyles`.\n\n"
      ]
    },
    {
      "cell_type": "code",
      "execution_count": null,
      "metadata": {
        "collapsed": false
      },
      "outputs": [],
      "source": [
        "fig = pygmt.Figure()\nfig.plot(\n    region=[0, 10, 0, 10],\n    projection=\"X25c/20c\",\n    frame=\"a\",\n    x=[1, 8],\n    y=[3, 9],\n    pen=\"7p,green,-.-\",\n)\nfig.show()"
      ]
    }
  ],
  "metadata": {
    "kernelspec": {
      "display_name": "Python 3",
      "language": "python",
      "name": "python3"
    },
    "language_info": {
      "codemirror_mode": {
        "name": "ipython",
        "version": 3
      },
      "file_extension": ".py",
      "mimetype": "text/x-python",
      "name": "python",
      "nbconvert_exporter": "python",
      "pygments_lexer": "ipython3",
      "version": "3.9.2"
    }
  },
  "nbformat": 4,
  "nbformat_minor": 0
}