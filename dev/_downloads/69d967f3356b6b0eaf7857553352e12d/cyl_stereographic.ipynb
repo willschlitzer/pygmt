{
  "cells": [
    {
      "cell_type": "code",
      "execution_count": null,
      "metadata": {
        "collapsed": false
      },
      "outputs": [],
      "source": [
        "%matplotlib inline"
      ]
    },
    {
      "cell_type": "markdown",
      "metadata": {},
      "source": [
        "\n# Cylindrical Stereographic\n\nThe cylindrical stereographic projections are certainly not as notable as other\ncylindrical projections, but are still used because of their relative simplicity and\ntheir ability to overcome some of the downsides of other cylindrical projections, like\nextreme distortions of the higher latitudes. The stereographic projections are\nperspective projections, projecting the sphere onto a cylinder in the direction of the\nantipodal point on the equator. The cylinder crosses the sphere at two standard\nparallels, equidistant from the equator.\n\n**cyl_stere/**\\ [*lon0/*]\\ [*lat0/*]\\ *scale*\nor **Cyl_stere/**\\ [*lon0/*]\\ [*lat0/*]\\ *width*\n\nThe projection is set with **cyl_stere** or **Cyl_stere**. The central meridian is set\nby the optional *lon0*, and the figure size is set with *scale* or *width*.\n\nThe standard parallel is typically one of these (but can be any value):\n\n* 66.159467 - Miller's modified Gall\n* 55 - Kamenetskiy's First\n* 45 - Gall's Stereographic\n* 30 - Bolshoi Sovietskii Atlas Mira or Kamenetskiy's Second\n* 0 - Braun's Cylindrical\n"
      ]
    },
    {
      "cell_type": "code",
      "execution_count": null,
      "metadata": {
        "collapsed": false
      },
      "outputs": [],
      "source": [
        "import pygmt\n\nfig = pygmt.Figure()\nfig.coast(region=\"g\", frame=\"afg\", land=\"gray\", projection=\"Cyl_stere/30/-20/12c\")\nfig.show()"
      ]
    }
  ],
  "metadata": {
    "kernelspec": {
      "display_name": "Python 3",
      "language": "python",
      "name": "python3"
    },
    "language_info": {
      "codemirror_mode": {
        "name": "ipython",
        "version": 3
      },
      "file_extension": ".py",
      "mimetype": "text/x-python",
      "name": "python",
      "nbconvert_exporter": "python",
      "pygments_lexer": "ipython3",
      "version": "3.9.2"
    }
  },
  "nbformat": 4,
  "nbformat_minor": 0
}