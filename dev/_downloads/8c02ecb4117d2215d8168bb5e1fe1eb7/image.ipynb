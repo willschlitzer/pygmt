{
  "cells": [
    {
      "cell_type": "code",
      "execution_count": null,
      "metadata": {
        "collapsed": false
      },
      "outputs": [],
      "source": [
        "%matplotlib inline"
      ]
    },
    {
      "cell_type": "markdown",
      "metadata": {},
      "source": [
        "\n# Images or EPS files on maps\nThe :meth:`pygmt.Figure.image` method can be used to read and\nplace a raster image file or an Encapsulated PostScript file\non a map. We must specify the file as *str* via the ``imagefile``\nargument or simply use the filename as the first argument. You can\nalso use a full URL pointing to your desired image. The ``position``\nargument allows us to set a reference point on the map for the image.\n"
      ]
    },
    {
      "cell_type": "code",
      "execution_count": null,
      "metadata": {
        "collapsed": false
      },
      "outputs": [],
      "source": [
        "import os\n\nimport pygmt\n\nfig = pygmt.Figure()\n\nfig.basemap(region=[0, 2, 0, 2], projection=\"X6c\", frame=True)\n\n# place and center the GMT logo from the GMT website to the position 1/1\n# on a basemap and draw a rectangular border around the image\nfig.image(\n    imagefile=\"https://www.generic-mapping-tools.org/_static/gmt-logo.png\",\n    position=\"g1/1+w3c+jCM\",\n    box=True,\n)\n\n# clean up the image downloaded in the current directory\nos.remove(\"gmt-logo.png\")\n\nfig.show()"
      ]
    }
  ],
  "metadata": {
    "kernelspec": {
      "display_name": "Python 3",
      "language": "python",
      "name": "python3"
    },
    "language_info": {
      "codemirror_mode": {
        "name": "ipython",
        "version": 3
      },
      "file_extension": ".py",
      "mimetype": "text/x-python",
      "name": "python",
      "nbconvert_exporter": "python",
      "pygments_lexer": "ipython3",
      "version": "3.9.2"
    }
  },
  "nbformat": 4,
  "nbformat_minor": 0
}