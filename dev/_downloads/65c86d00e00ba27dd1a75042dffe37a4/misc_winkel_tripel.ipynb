{
  "cells": [
    {
      "cell_type": "code",
      "execution_count": null,
      "metadata": {
        "collapsed": false
      },
      "outputs": [],
      "source": [
        "%matplotlib inline"
      ]
    },
    {
      "cell_type": "markdown",
      "metadata": {},
      "source": [
        "\n# Winkel Tripel\n\nIn 1921, the German mathematician Oswald Winkel a projection that was to strike a\ncompromise between the properties of three elements (area, angle and distance). The\nGerman word \u201ctripel\u201d refers to this junction of where each of these elements are least\ndistorted when plotting global maps. The projection was popularized when Bartholomew\nand Son started to use it in its world-renowned \u201cThe Times Atlas of the World\u201d in the\nmid-20th century. In 1998, the National Geographic Society made the Winkel Tripel as\nits map projection of choice for global maps.\n\nNaturally, this projection is neither conformal, nor equal-area. Central meridian and\nequator are straight lines; other parallels and meridians are curved. The projection is\nobtained by averaging the coordinates of the Equidistant Cylindrical and Aitoff\n(not Hammer-Aitoff) projections. The poles map into straight lines 0.4 times the\nlength of equator.\n\n**r**\\ [*lon0/*]\\ *scale* or **R**\\ [*lon0/*]\\ *width*\n\nThe projection is set with **r** or **R**. The central meridian is set with the\noptional *lon0*, and the figure size is set with *scale* or *width*.\n"
      ]
    },
    {
      "cell_type": "code",
      "execution_count": null,
      "metadata": {
        "collapsed": false
      },
      "outputs": [],
      "source": [
        "import pygmt\n\nfig = pygmt.Figure()\n# Use region \"d\" to specify global region (-180/180/-90/90)\nfig.coast(region=\"d\", projection=\"R12c\", land=\"burlywood4\", water=\"wheat1\", frame=\"afg\")\nfig.show()"
      ]
    }
  ],
  "metadata": {
    "kernelspec": {
      "display_name": "Python 3",
      "language": "python",
      "name": "python3"
    },
    "language_info": {
      "codemirror_mode": {
        "name": "ipython",
        "version": 3
      },
      "file_extension": ".py",
      "mimetype": "text/x-python",
      "name": "python",
      "nbconvert_exporter": "python",
      "pygments_lexer": "ipython3",
      "version": "3.9.2"
    }
  },
  "nbformat": 4,
  "nbformat_minor": 0
}