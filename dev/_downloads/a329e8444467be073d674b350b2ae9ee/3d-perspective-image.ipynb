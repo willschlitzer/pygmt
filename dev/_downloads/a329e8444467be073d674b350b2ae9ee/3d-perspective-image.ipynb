{
  "cells": [
    {
      "cell_type": "code",
      "execution_count": null,
      "metadata": {
        "collapsed": false
      },
      "outputs": [],
      "source": [
        "%matplotlib inline"
      ]
    },
    {
      "cell_type": "markdown",
      "metadata": {},
      "source": [
        "\n# Creating a 3D perspective image\n\nCreate 3-D perspective image or surface mesh from a grid\nusing :meth:`pygmt.Figure.grdview`.\n\n<div class=\"alert alert-info\"><h4>Note</h4><p>This tutorial assumes the use of a Python notebook, such as IPython or Jupyter Notebook.\n    To see the figures while using a Python script instead, use\n    ``fig.show(method=\"external\")`` to display the figure in the default PDF viewer.\n\n    To save the figure, use ``fig.savefig(\"figname.pdf\")`` where ``\"figname.pdf\"``\n    is the desired name and file extension for the saved figure.</p></div>\n"
      ]
    },
    {
      "cell_type": "code",
      "execution_count": null,
      "metadata": {
        "collapsed": false
      },
      "outputs": [],
      "source": [
        "import pygmt\n\n# Load sample earth relief data\ngrid = pygmt.datasets.load_earth_relief(resolution=\"10m\", region=[-108, -103, 35, 40])"
      ]
    },
    {
      "cell_type": "markdown",
      "metadata": {},
      "source": [
        "The :meth:`pygmt.Figure.grdview` method takes the ``grid`` input.\nThe ``perspective`` argument changes the azimuth and elevation of the viewpoint; the\ndefault is [180, 90], which is looking directly down on the figure and north is \"up\".\nThe ``zsize`` argument sets how tall the three-dimensional portion appears.\n\nThe default grid surface type is *mesh plot*.\n\n"
      ]
    },
    {
      "cell_type": "code",
      "execution_count": null,
      "metadata": {
        "collapsed": false
      },
      "outputs": [],
      "source": [
        "fig = pygmt.Figure()\nfig.grdview(\n    grid=grid,\n    # Sets the view azimuth as 130 degrees, and the view elevation as 30 degrees\n    perspective=[130, 30],\n    # Sets the x- and y-axis labels, and annotates the west, south, and east axes\n    frame=[\"xa\", \"ya\", \"WSnE\"],\n    # Sets a Mercator projection on a 15-centimeter figure\n    projection=\"M15c\",\n    # Sets the height of the three-dimensional relief at 1.5 centimeters\n    zsize=\"1.5c\",\n)\nfig.show()"
      ]
    },
    {
      "cell_type": "markdown",
      "metadata": {},
      "source": [
        "The grid surface type can be set with the ``surftype`` parameter.\nThe default CPT is *turbo* and can be customized with the ``cmap`` parameter.\n\n"
      ]
    },
    {
      "cell_type": "code",
      "execution_count": null,
      "metadata": {
        "collapsed": false
      },
      "outputs": [],
      "source": [
        "fig = pygmt.Figure()\nfig.grdview(\n    grid=grid,\n    perspective=[130, 30],\n    frame=[\"xa\", \"yaf\", \"WSnE\"],\n    projection=\"M15c\",\n    zsize=\"1.5c\",\n    # Set the surftype to \"surface\"\n    surftype=\"s\",\n    # Set the CPT to \"geo\"\n    cmap=\"geo\",\n)\nfig.show()"
      ]
    },
    {
      "cell_type": "markdown",
      "metadata": {},
      "source": [
        "The ``plane`` argument sets the elevation and color of a plane that provides a fill\nbelow the surface relief.\n\n"
      ]
    },
    {
      "cell_type": "code",
      "execution_count": null,
      "metadata": {
        "collapsed": false
      },
      "outputs": [],
      "source": [
        "fig = pygmt.Figure()\nfig.grdview(\n    grid=grid,\n    perspective=[130, 30],\n    frame=[\"xa\", \"yaf\", \"WSnE\"],\n    projection=\"M15c\",\n    zsize=\"1.5c\",\n    surftype=\"s\",\n    cmap=\"geo\",\n    # Set the plane elevation to 1,000 meters and make the fill \"gray\"\n    plane=\"1000+ggray\",\n)\nfig.show()"
      ]
    },
    {
      "cell_type": "markdown",
      "metadata": {},
      "source": [
        "The ``perspective`` azimuth can be changed to set the direction that is \"up\"\nin the figure. The ``contourpen`` parameter sets the pen used to draw contour lines\non the surface. :meth:`pygmt.Figure.colorbar` can be used to add a color bar to the\nfigure. The ``cmap`` parameter does not need to be passed again. To keep the color\nbar's alignment similar to the figure, use ``True`` as the ``perspective`` parameter.\n\n"
      ]
    },
    {
      "cell_type": "code",
      "execution_count": null,
      "metadata": {
        "collapsed": false
      },
      "outputs": [],
      "source": [
        "fig = pygmt.Figure()\nfig.grdview(\n    grid=grid,\n    # Set the azimuth to -130 (230) degrees and the elevation to 30 degrees\n    perspective=[-130, 30],\n    frame=[\"xaf\", \"yaf\", \"WSnE\"],\n    projection=\"M15c\",\n    zsize=\"1.5c\",\n    surftype=\"s\",\n    cmap=\"geo\",\n    plane=\"1000+ggrey\",\n    # Set the contour pen thickness to \"0.1p\"\n    contourpen=\"0.1p\",\n)\nfig.colorbar(perspective=True, frame=[\"a500\", \"x+lElevation\", \"y+lm\"])\nfig.show()"
      ]
    }
  ],
  "metadata": {
    "kernelspec": {
      "display_name": "Python 3",
      "language": "python",
      "name": "python3"
    },
    "language_info": {
      "codemirror_mode": {
        "name": "ipython",
        "version": 3
      },
      "file_extension": ".py",
      "mimetype": "text/x-python",
      "name": "python",
      "nbconvert_exporter": "python",
      "pygments_lexer": "ipython3",
      "version": "3.9.2"
    }
  },
  "nbformat": 4,
  "nbformat_minor": 0
}