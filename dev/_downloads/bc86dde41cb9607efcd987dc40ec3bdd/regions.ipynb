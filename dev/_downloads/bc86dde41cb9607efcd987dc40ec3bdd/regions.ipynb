{
  "cells": [
    {
      "cell_type": "code",
      "execution_count": null,
      "metadata": {
        "collapsed": false
      },
      "outputs": [],
      "source": [
        "%matplotlib inline"
      ]
    },
    {
      "cell_type": "markdown",
      "metadata": {},
      "source": [
        "\n# Set the region\n\nMany of the plotting functions take the ``region`` argument, which sets\nthe area that will be shown in the figure. This tutorial covers the different types of\ninputs that it can accept.\n\n<div class=\"alert alert-info\"><h4>Note</h4><p>This tutorial assumes the use of a Python notebook, such as IPython or Jupyter Notebook.\n    To see the figures while using a Python script instead, use\n    ``fig.show(method=\"external\")`` to display the figure in the default PDF viewer.\n\n    To save the figure, use ``fig.savefig(\"figname.pdf\")`` where ``\"figname.pdf\"``\n    is the desired name and file extension for the saved figure.</p></div>\n"
      ]
    },
    {
      "cell_type": "code",
      "execution_count": null,
      "metadata": {
        "collapsed": false
      },
      "outputs": [],
      "source": [
        "import pygmt"
      ]
    },
    {
      "cell_type": "markdown",
      "metadata": {},
      "source": [
        "## Coordinates\n\nA string of coordinates can be passed to ``region``, in the form of\n*xmin*/*xmax*/*ymin*/*ymax*.\n\n"
      ]
    },
    {
      "cell_type": "code",
      "execution_count": null,
      "metadata": {
        "collapsed": false
      },
      "outputs": [],
      "source": [
        "fig = pygmt.Figure()\nfig.coast(\n    # Sets the x-range from 10E to 20E and the y-range to 35N to 45N\n    region=\"10/20/35/45\",\n    # Set projection to Mercator, and the figure size to 15 centimeters\n    projection=\"M15c\",\n    # Set the color of the land to light gray\n    land=\"lightgray\",\n    # Set the color of the water to white\n    water=\"white\",\n    # Display the national borders and set the pen thickness to 0.5p\n    borders=\"1/0.5p\",\n    # Display the shorelines and set the pen thickness to 0.5p\n    shorelines=\"1/0.5p\",\n    # Set the frame to display annotations and gridlines\n    frame=\"ag\",\n)\nfig.show()"
      ]
    },
    {
      "cell_type": "markdown",
      "metadata": {},
      "source": [
        "The coordinates can be passed to ``region`` as a list, in the form\nof [*xmin*,\\ *xmax*,\\ *ymin*,\\ *ymax*].\n\n"
      ]
    },
    {
      "cell_type": "code",
      "execution_count": null,
      "metadata": {
        "collapsed": false
      },
      "outputs": [],
      "source": [
        "fig = pygmt.Figure()\nfig.coast(\n    # Sets the x-range from 10E to 20E and the y-range to 35N to 45N\n    region=[10, 20, 35, 45],\n    projection=\"M12c\",\n    land=\"lightgray\",\n    water=\"white\",\n    borders=\"1/0.5p\",\n    shorelines=\"1/0.5p\",\n    frame=\"ag\",\n)\nfig.show()"
      ]
    },
    {
      "cell_type": "markdown",
      "metadata": {},
      "source": [
        "Instead of passing axes minima and maxima, the coordinates can be passed for the\nbottom-left and top-right corners. The string format takes the coordinates for the\nbottom-left and top-right coordinates. To specify corner coordinates, append **+r**\nat the end of the ``region`` string.\n\n"
      ]
    },
    {
      "cell_type": "code",
      "execution_count": null,
      "metadata": {
        "collapsed": false
      },
      "outputs": [],
      "source": [
        "fig = pygmt.Figure()\nfig.coast(\n    # Sets the bottom-left corner as 10E, 35N and the top-right corner as 20E, 45N\n    region=\"10/35/20/45+r\",\n    projection=\"M12c\",\n    land=\"lightgray\",\n    water=\"white\",\n    borders=\"1/0.5p\",\n    shorelines=\"1/0.5p\",\n    frame=\"ag\",\n)\nfig.show()"
      ]
    },
    {
      "cell_type": "markdown",
      "metadata": {},
      "source": [
        "## Global regions\n\nIn addition to passing coordinates, the argument **d** can be passed to set the\nregion to the entire globe. The range is 180W to 180E (-180, 180) and 90S to\n90N (-90 to 90). With no parameters set for the projection, the figure defaults to be\ncentered at the mid-point of both x- and y-axes. Using **d**\\ , the figure is\ncentered at (0, 0), or the intersection of the equator and prime meridian.\n\n"
      ]
    },
    {
      "cell_type": "code",
      "execution_count": null,
      "metadata": {
        "collapsed": false
      },
      "outputs": [],
      "source": [
        "fig = pygmt.Figure()\nfig.coast(\n    region=\"d\",\n    projection=\"Cyl_stere/12c\",\n    land=\"darkgray\",\n    water=\"white\",\n    borders=\"1/0.5p\",\n    shorelines=\"1/0.5p\",\n    frame=\"ag\",\n)\nfig.show()"
      ]
    },
    {
      "cell_type": "markdown",
      "metadata": {},
      "source": [
        "The argument **g** can be passed, which encompasses the entire globe. The range is\n0E to 360E (0, 360) and 90S to 90N (-90 to 90). With no parameters set for the\nprojection, the figure is centered at (180, 0), or the intersection of the equator and\nInternational Date Line.\n\n"
      ]
    },
    {
      "cell_type": "code",
      "execution_count": null,
      "metadata": {
        "collapsed": false
      },
      "outputs": [],
      "source": [
        "fig = pygmt.Figure()\nfig.coast(\n    region=\"g\",\n    projection=\"Cyl_stere/12c\",\n    land=\"darkgray\",\n    water=\"white\",\n    borders=\"1/0.5p\",\n    shorelines=\"1/0.5p\",\n    frame=\"ag\",\n)\nfig.show()"
      ]
    },
    {
      "cell_type": "markdown",
      "metadata": {},
      "source": [
        "## ISO code\n\nThe ``region`` can be set to include a specific area specified by the two-character\nISO 3166-1 alpha-2 convention\n(for futher information: https://en.wikipedia.org/wiki/ISO_3166-1_alpha-2).\n\n"
      ]
    },
    {
      "cell_type": "code",
      "execution_count": null,
      "metadata": {
        "collapsed": false
      },
      "outputs": [],
      "source": [
        "fig = pygmt.Figure()\nfig.coast(\n    # Sets the figure region to encompass Japan with the ISO code \"JP\"\n    region=\"JP\",\n    projection=\"M12c\",\n    land=\"lightgray\",\n    water=\"white\",\n    borders=\"1/0.5p\",\n    shorelines=\"1/0.5p\",\n    frame=\"ag\",\n)\nfig.show()"
      ]
    },
    {
      "cell_type": "markdown",
      "metadata": {},
      "source": [
        "The area encompassed by the ISO code can be expanded by appending **+r**\\ *increment*\nto the ISO code. The *increment* unit is in degrees, and if only value is added it\nexpands the range of the region in all directions. Using **+r** rounds to the nearest\nincrement.\n\n"
      ]
    },
    {
      "cell_type": "code",
      "execution_count": null,
      "metadata": {
        "collapsed": false
      },
      "outputs": [],
      "source": [
        "fig = pygmt.Figure()\nfig.coast(\n    # Expands the region setting outside the range of Japan by 3 degrees in all\n    # directions\n    region=\"JP+r3\",\n    projection=\"M12c\",\n    land=\"lightgray\",\n    water=\"white\",\n    borders=\"1/0.5p\",\n    shorelines=\"1/0.5p\",\n    frame=\"ag\",\n)\nfig.show()"
      ]
    },
    {
      "cell_type": "markdown",
      "metadata": {},
      "source": [
        "Instead of expanding the range of the plot uniformly in all directions, two values\ncan be passed to expand differently on each axis. The format is *xinc*/*yinc*.\n\n"
      ]
    },
    {
      "cell_type": "code",
      "execution_count": null,
      "metadata": {
        "collapsed": false
      },
      "outputs": [],
      "source": [
        "fig = pygmt.Figure()\nfig.coast(\n    # Expands the region setting outside the range of Japan by 3 degrees on the x-axis\n    # and 5 degrees on the y-axis.\n    region=\"JP+r3/5\",\n    projection=\"M12c\",\n    land=\"lightgray\",\n    water=\"white\",\n    borders=\"1/0.5p\",\n    shorelines=\"1/0.5p\",\n    frame=\"ag\",\n)\nfig.show()"
      ]
    },
    {
      "cell_type": "markdown",
      "metadata": {},
      "source": [
        "Instead of expanding the range of the plot uniformly in all directions, four values\ncan be passed to expand differently in each direction.\nThe format is *winc*/*einc*/*sinc*/*ninc*, which expands on the west,\neast, south, and north axes.\n\n"
      ]
    },
    {
      "cell_type": "code",
      "execution_count": null,
      "metadata": {
        "collapsed": false
      },
      "outputs": [],
      "source": [
        "fig = pygmt.Figure()\nfig.coast(\n    # Expands the region setting outside the range of Japan by 3 degrees to the west,\n    # 5 degrees to the east, 7 degrees to the south, and 9 degrees to the north.\n    region=\"JP+r3/5/7/9\",\n    projection=\"M12c\",\n    land=\"lightgray\",\n    water=\"white\",\n    borders=\"1/0.5p\",\n    shorelines=\"1/0.5p\",\n    frame=\"ag\",\n)\nfig.show()"
      ]
    },
    {
      "cell_type": "markdown",
      "metadata": {},
      "source": [
        "The ``region`` increment can be appended with **+R**, which adds the increment\nwithout rounding.\n\n"
      ]
    },
    {
      "cell_type": "code",
      "execution_count": null,
      "metadata": {
        "collapsed": false
      },
      "outputs": [],
      "source": [
        "fig = pygmt.Figure()\nfig.coast(\n    # Expands the region setting outside the range of Japan by 3 degrees in all\n    # directions, without rounding to the nearest increment.\n    region=\"JP+R3\",\n    projection=\"M12c\",\n    land=\"lightgray\",\n    water=\"white\",\n    borders=\"1/0.5p\",\n    shorelines=\"1/0.5p\",\n    frame=\"ag\",\n)\nfig.show()"
      ]
    },
    {
      "cell_type": "markdown",
      "metadata": {},
      "source": [
        "The ``region`` increment can be appended with **+e**, which expand the bounding box\nby at least 25% beyond the increment.\n\n"
      ]
    },
    {
      "cell_type": "code",
      "execution_count": null,
      "metadata": {
        "collapsed": false
      },
      "outputs": [],
      "source": [
        "fig = pygmt.Figure()\nfig.coast(\n    # Expands the region setting outside the range of Japan by 3 degrees in all\n    # directions, without rounding to the nearest increment.\n    region=\"JP+e3\",\n    projection=\"M12c\",\n    land=\"lightgray\",\n    water=\"white\",\n    borders=\"1/0.5p\",\n    shorelines=\"1/0.5p\",\n    frame=\"ag\",\n)\nfig.show()"
      ]
    }
  ],
  "metadata": {
    "kernelspec": {
      "display_name": "Python 3",
      "language": "python",
      "name": "python3"
    },
    "language_info": {
      "codemirror_mode": {
        "name": "ipython",
        "version": 3
      },
      "file_extension": ".py",
      "mimetype": "text/x-python",
      "name": "python",
      "nbconvert_exporter": "python",
      "pygments_lexer": "ipython3",
      "version": "3.9.2"
    }
  },
  "nbformat": 4,
  "nbformat_minor": 0
}