{
  "cells": [
    {
      "cell_type": "code",
      "execution_count": null,
      "metadata": {
        "collapsed": false
      },
      "outputs": [],
      "source": [
        "%matplotlib inline"
      ]
    },
    {
      "cell_type": "markdown",
      "metadata": {},
      "source": [
        "\n# Lambert Azimuthal Equal Area\n\nThis projection was developed by Johann Heinrich Lambert in 1772 and is typically used\nfor mapping large regions like continents and hemispheres. It is an azimuthal,\nequal-area projection, but is not perspective. Distortion is zero at the center of the\nprojection, and increases radially away from this point.\n\n**a**\\ *lon0/lat0*\\ [*/horizon*\\ ]\\ */scale*\nor **A**\\ *lon0/lat0*\\ [*/horizon*\\ ]\\ */width*\n\n**a** or **A** specifies the projection type, and *lon0/lat0* specifies the projection\ncenter, *horizon* specifies the maximum distance from projection center (in degrees,\n<= 180, default 90), and *scale* or *width* sets the size of the figure.\n"
      ]
    },
    {
      "cell_type": "code",
      "execution_count": null,
      "metadata": {
        "collapsed": false
      },
      "outputs": [],
      "source": [
        "import pygmt\n\nfig = pygmt.Figure()\nfig.coast(region=\"g\", frame=\"afg\", land=\"gray\", projection=\"A30/-20/60/12c\")\nfig.show()"
      ]
    }
  ],
  "metadata": {
    "kernelspec": {
      "display_name": "Python 3",
      "language": "python",
      "name": "python3"
    },
    "language_info": {
      "codemirror_mode": {
        "name": "ipython",
        "version": 3
      },
      "file_extension": ".py",
      "mimetype": "text/x-python",
      "name": "python",
      "nbconvert_exporter": "python",
      "pygments_lexer": "ipython3",
      "version": "3.9.2"
    }
  },
  "nbformat": 4,
  "nbformat_minor": 0
}