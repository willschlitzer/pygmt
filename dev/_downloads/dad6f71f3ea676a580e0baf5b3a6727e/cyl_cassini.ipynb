{
  "cells": [
    {
      "cell_type": "code",
      "execution_count": null,
      "metadata": {
        "collapsed": false
      },
      "outputs": [],
      "source": [
        "%matplotlib inline"
      ]
    },
    {
      "cell_type": "markdown",
      "metadata": {},
      "source": [
        "\n# Cassini Cylindrical\n\nThis cylindrical projection was developed in 1745 by C\u00e9sar-Fran\u00e7ois Cassini de Thury\nfor the survey of France. It is occasionally called Cassini-Soldner since the latter\nprovided the more accurate mathematical analysis that led to the development of the\nellipsoidal formulae. The projection is neither conformal nor equal-area, and behaves\nas a compromise between the two end-members. The distortion is zero along the central\nmeridian. It is best suited for mapping regions of north-south extent. The central\nmeridian, each meridian 90\u00b0 away, and equator are straight lines; all other meridians\nand parallels are complex curves.\n\n**c**\\ *lon0/lat0*\\ */scale* or **C**\\ *lon0/lat0*\\ */width*\n\nThe projection is set with **c** or **C**. The projection center is set by *lon0/lat0*,\nand the figure size is set with *scale* or *width*.\n"
      ]
    },
    {
      "cell_type": "code",
      "execution_count": null,
      "metadata": {
        "collapsed": false
      },
      "outputs": [],
      "source": [
        "import pygmt\n\nfig = pygmt.Figure()\n# Use the ISO code for Madagascar (MG) and pad it by 2 degrees (+R2)\nfig.coast(projection=\"C47/-19/12c\", region=\"MG+R2\", frame=\"afg\", land=\"gray\", borders=1)\nfig.show()"
      ]
    }
  ],
  "metadata": {
    "kernelspec": {
      "display_name": "Python 3",
      "language": "python",
      "name": "python3"
    },
    "language_info": {
      "codemirror_mode": {
        "name": "ipython",
        "version": 3
      },
      "file_extension": ".py",
      "mimetype": "text/x-python",
      "name": "python",
      "nbconvert_exporter": "python",
      "pygments_lexer": "ipython3",
      "version": "3.9.2"
    }
  },
  "nbformat": 4,
  "nbformat_minor": 0
}