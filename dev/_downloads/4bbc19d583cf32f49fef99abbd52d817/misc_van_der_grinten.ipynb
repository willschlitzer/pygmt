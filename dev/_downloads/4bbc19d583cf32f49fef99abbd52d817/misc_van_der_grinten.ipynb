{
  "cells": [
    {
      "cell_type": "code",
      "execution_count": null,
      "metadata": {
        "collapsed": false
      },
      "outputs": [],
      "source": [
        "%matplotlib inline"
      ]
    },
    {
      "cell_type": "markdown",
      "metadata": {},
      "source": [
        "\n# Van der Grinten\n\nThe Van der Grinten projection, presented by Alphons J. van der Grinten in 1904, is\nneither equal-area nor conformal. Central meridian and Equator are straight lines;\nother meridians are arcs of circles. The scale is true along the Equator only. Its\nmain use is to show the entire world enclosed in a circle.\n\n**v**\\ [*lon0/*]\\ *scale* or **V**\\ [*lon0/*]\\ *width*\n\nThe projection is set with **v** or **V**. The central meridian is set with the\noptional *lon0*, and the figure size is set with *scale* or *width*.\n"
      ]
    },
    {
      "cell_type": "code",
      "execution_count": null,
      "metadata": {
        "collapsed": false
      },
      "outputs": [],
      "source": [
        "import pygmt\n\nfig = pygmt.Figure()\n# Use region \"d\" to specify global region (-180/180/-90/90)\nfig.coast(region=\"d\", projection=\"V12c\", land=\"gray\", water=\"cornsilk\", frame=\"afg\")\nfig.show()"
      ]
    }
  ],
  "metadata": {
    "kernelspec": {
      "display_name": "Python 3",
      "language": "python",
      "name": "python3"
    },
    "language_info": {
      "codemirror_mode": {
        "name": "ipython",
        "version": 3
      },
      "file_extension": ".py",
      "mimetype": "text/x-python",
      "name": "python",
      "nbconvert_exporter": "python",
      "pygments_lexer": "ipython3",
      "version": "3.9.2"
    }
  },
  "nbformat": 4,
  "nbformat_minor": 0
}