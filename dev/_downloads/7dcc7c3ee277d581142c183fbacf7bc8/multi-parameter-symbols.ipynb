{
  "cells": [
    {
      "cell_type": "code",
      "execution_count": null,
      "metadata": {
        "collapsed": false
      },
      "outputs": [],
      "source": [
        "%matplotlib inline"
      ]
    },
    {
      "cell_type": "markdown",
      "metadata": {},
      "source": [
        "\n# Multi-parameter symbols\n\nThe :meth:`pygmt.Figure.plot` method can plot individual multi-parameter symbols by passing\nthe corresponding shortcuts listed below to the ``style`` argument. Additionally, we must define\nthe required parameters in a 2d list or numpy array (``[[parameters]]`` for a single symbol\nor ``[[parameters_1],[parameters_2],[parameters_i]]`` for several ones) or use an\nappropriately formatted input file and pass it to ``data``.\n\nThe following symbols are available:\n\n- **e**: ellipse, ``[[lon, lat, direction, major_axis, minor_axis]]``\n- **j**: rotated rectangle, ``[[lon, lat, direction, width, height]]``\n- **r**: rectangle, ``[[lon, lat, width, height]]``\n- **R**: rounded rectangle, ``[[lon, lat, width, height, radius]]``\n- **w**: pie wedge, ``[[lon, lat, radius, startdir, stopdir]]``, the last two arguments are\n  directions given in degrees counter-clockwise from horizontal\n\nUpper-case versions **E**, **J**, and **W** are similar to **e**, **j** and **w** but expect geographic\nazimuths and distances.\n"
      ]
    },
    {
      "cell_type": "code",
      "execution_count": null,
      "metadata": {
        "collapsed": false
      },
      "outputs": [],
      "source": [
        "import numpy as np\nimport pygmt\n\nfig = pygmt.Figure()\n\nfig.basemap(region=[0, 6, 0, 2], projection=\"x3c\", frame=True)\n\n###################\n# ELLIPSE\ndata = np.array([[0.5, 1, 45, 3, 1]])\n\nfig.plot(data=data, style=\"e\", color=\"orange\", pen=\"2p,black\")\n\n###################\n# ROTATED RECTANGLE\ndata = np.array([[1.5, 1, 120, 5, 0.5]])\n\nfig.plot(data=data, style=\"j\", color=\"red3\", pen=\"2p,black\")\n\n###################\n# RECTANGLE\ndata = np.array([[3, 1, 4, 1.5]])\n\nfig.plot(data=data, style=\"r\", color=\"dodgerblue\", pen=\"2p,black\")\n\n###################\n# ROUNDED RECTANGLE\ndata = np.array([[4.5, 1, 1.25, 4, 0.5]])\n\nfig.plot(data=data, style=\"R\", color=\"seagreen\", pen=\"2p,black\")\n\n###################\n# PIE WEDGE\ndata = np.array([[5.5, 1, 2.5, 45, 330]])\n\nfig.plot(data=data, style=\"w\", color=\"lightgray\", pen=\"2p,black\")\n\nfig.show()"
      ]
    }
  ],
  "metadata": {
    "kernelspec": {
      "display_name": "Python 3",
      "language": "python",
      "name": "python3"
    },
    "language_info": {
      "codemirror_mode": {
        "name": "ipython",
        "version": 3
      },
      "file_extension": ".py",
      "mimetype": "text/x-python",
      "name": "python",
      "nbconvert_exporter": "python",
      "pygments_lexer": "ipython3",
      "version": "3.9.2"
    }
  },
  "nbformat": 4,
  "nbformat_minor": 0
}