{
  "cells": [
    {
      "cell_type": "code",
      "execution_count": null,
      "metadata": {
        "collapsed": false
      },
      "outputs": [],
      "source": [
        "%matplotlib inline"
      ]
    },
    {
      "cell_type": "markdown",
      "metadata": {},
      "source": [
        "\n# Albers Conic Equal Area\n\nThis projection, developed by Heinrich C. Albers in 1805, is predominantly used to map\nregions of large east-west extent, in particular the United States. It is a conic,\nequal-area projection, in which parallels are unequally spaced arcs of concentric\ncircles, more closely spaced at the north and south edges of the map. Meridians, on the\nother hand, are equally spaced radii about a common center, and cut the parallels at\nright angles. Distortion in scale and shape vanishes along the two standard parallels.\nBetween them, the scale along parallels is too small; beyond them it is too large.\nThe opposite is true for the scale along meridians.\n\n**b**\\ *lon0/lat0*\\ /\\ *lat1/lat2*\\ */scale*\nor **B**\\ *lon0/lat0*\\ /\\ *lat1/lat2*\\ */width*\n\nThe projection is set with **b** or **B**. The projection center is set by *lon0/lat0*\nand two standard parallels for the map are set with *lat1/lat2*. The figure size is set\nwith *scale* or *width*.\n"
      ]
    },
    {
      "cell_type": "code",
      "execution_count": null,
      "metadata": {
        "collapsed": false
      },
      "outputs": [],
      "source": [
        "import pygmt\n\nfig = pygmt.Figure()\n# Use the ISO country code for Brazil and add a padding of 2 degrees (+R2)\nfig.coast(\n    projection=\"B-55/-15/-25/0/12c\", region=\"BR+R2\", frame=\"afg\", land=\"gray\", borders=1\n)\nfig.show()"
      ]
    }
  ],
  "metadata": {
    "kernelspec": {
      "display_name": "Python 3",
      "language": "python",
      "name": "python3"
    },
    "language_info": {
      "codemirror_mode": {
        "name": "ipython",
        "version": 3
      },
      "file_extension": ".py",
      "mimetype": "text/x-python",
      "name": "python",
      "nbconvert_exporter": "python",
      "pygments_lexer": "ipython3",
      "version": "3.9.2"
    }
  },
  "nbformat": 4,
  "nbformat_minor": 0
}