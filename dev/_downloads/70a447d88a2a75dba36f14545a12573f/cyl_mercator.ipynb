{
  "cells": [
    {
      "cell_type": "code",
      "execution_count": null,
      "metadata": {
        "collapsed": false
      },
      "outputs": [],
      "source": [
        "%matplotlib inline"
      ]
    },
    {
      "cell_type": "markdown",
      "metadata": {},
      "source": [
        "\n# Mercator\n\nThe Mercator projection takes its name from the Flemish cartographer Gheert Cremer,\nbetter known as Gerardus Mercator, who presented it in 1569. The projection is a\ncylindrical and conformal, with no distortion along the equator. A major navigational\nfeature of the projection is that a line of constant azimuth is straight. Such a line\nis called a rhumb line or loxodrome. Thus, to sail from one point to another one only\nhad to connect the points with a straight line, determine the azimuth of the line, and\nkeep this constant course for the entire voyage. The Mercator projection has been used\nextensively for world maps in which the distortion towards the polar regions grows\nrather large.\n\n**m**\\ [*lon0[/lat0]*]\\ */scale* or **M**\\ [*lon0*][*/lat0*]\\ */width*\n\nThe projection is set with **m** or **M**. The central meridian is set with the\noptional *lon0* and the standard parallel is set with the optional *lat0*.\nThe figure size is set with *scale* or *width*.\n"
      ]
    },
    {
      "cell_type": "code",
      "execution_count": null,
      "metadata": {
        "collapsed": false
      },
      "outputs": [],
      "source": [
        "import pygmt\n\nfig = pygmt.Figure()\nfig.coast(region=[0, 360, -80, 80], frame=\"afg\", land=\"red\", projection=\"M0/0/12c\")\nfig.show()"
      ]
    }
  ],
  "metadata": {
    "kernelspec": {
      "display_name": "Python 3",
      "language": "python",
      "name": "python3"
    },
    "language_info": {
      "codemirror_mode": {
        "name": "ipython",
        "version": 3
      },
      "file_extension": ".py",
      "mimetype": "text/x-python",
      "name": "python",
      "nbconvert_exporter": "python",
      "pygments_lexer": "ipython3",
      "version": "3.9.2"
    }
  },
  "nbformat": 4,
  "nbformat_minor": 0
}