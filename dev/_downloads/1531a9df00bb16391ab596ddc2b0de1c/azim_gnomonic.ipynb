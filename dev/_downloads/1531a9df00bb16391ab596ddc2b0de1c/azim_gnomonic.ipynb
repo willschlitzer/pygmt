{
  "cells": [
    {
      "cell_type": "code",
      "execution_count": null,
      "metadata": {
        "collapsed": false
      },
      "outputs": [],
      "source": [
        "%matplotlib inline"
      ]
    },
    {
      "cell_type": "markdown",
      "metadata": {},
      "source": [
        "\n# Gnomonic\n\nThe point of perspective of the gnomonic projection lies at the center of the\nearth. As a consequence great circles (orthodromes) on the surface of the Earth\nare displayed as straight lines, which makes it suitable for distance estimation\nfor navigational purposes. It is neither conformal nor equal-area and the\ndistortion increases greatly with distance to the projection center. It follows\nthat the scope of application is restricted to a small area around the\nprojection center (at a maximum of 60\u00b0).\n\n**f**\\ *lon0/lat0*\\ [*/horizon*\\ ]\\ */scale*\nor **F**\\ *lon0/lat0*\\ [*/horizon*\\ ]\\ */width*\n\n**f** or **F** specifies the projection type, *lon0/lat0* specifies the projection\ncenter, the optional parameter *horizon* specifies the maximum distance from projection\ncenter (in degrees, < 90, default 60), and *scale* or *width* sets the size of the\nfigure.\n"
      ]
    },
    {
      "cell_type": "code",
      "execution_count": null,
      "metadata": {
        "collapsed": false
      },
      "outputs": [],
      "source": [
        "import pygmt\n\nfig = pygmt.Figure()\nfig.coast(projection=\"F-90/15/12c\", region=\"g\", frame=\"20g20\", land=\"gray\")\nfig.show()"
      ]
    }
  ],
  "metadata": {
    "kernelspec": {
      "display_name": "Python 3",
      "language": "python",
      "name": "python3"
    },
    "language_info": {
      "codemirror_mode": {
        "name": "ipython",
        "version": 3
      },
      "file_extension": ".py",
      "mimetype": "text/x-python",
      "name": "python",
      "nbconvert_exporter": "python",
      "pygments_lexer": "ipython3",
      "version": "3.9.2"
    }
  },
  "nbformat": 4,
  "nbformat_minor": 0
}