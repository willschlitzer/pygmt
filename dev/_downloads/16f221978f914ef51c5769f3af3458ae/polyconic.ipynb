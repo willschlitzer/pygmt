{
  "cells": [
    {
      "cell_type": "code",
      "execution_count": null,
      "metadata": {
        "collapsed": false
      },
      "outputs": [],
      "source": [
        "%matplotlib inline"
      ]
    },
    {
      "cell_type": "markdown",
      "metadata": {},
      "source": [
        "\n# Polyconic Projection\n\nThe polyconic projection, in Europe usually referred to as the American polyconic\nprojection, was introduced shortly before 1820 by the Swiss-American cartographer\nFerdinand Rodulph Hassler (1770\u20131843). As head of the Survey of the Coast, he was\nlooking for a projection that would give the least distortion for mapping the coast of\nthe United States. The projection acquired its name from the construction of each\nparallel, which is achieved by projecting the parallel onto the cone while it is rolled\naround the globe, along the central meridian, tangent to that parallel. As a\nconsequence, the projection involves many cones rather than a single one used in\nregular conic projections.\n\nThe polyconic projection is neither equal-area, nor conformal. It is true to scale\nwithout distortion along the central meridian. Each parallel is true to scale as well,\nbut the meridians are not as they get further away from the central meridian. As a\nconsequence, no parallel is standard because conformity is lost with the lengthening of\nthe meridians.\n\n**poly**\\ */scale* or **Poly**\\ */width*\n\nThe projection is set with **poly** or **Poly**. The figure size is set\nwith *scale* or *width*.\n"
      ]
    },
    {
      "cell_type": "code",
      "execution_count": null,
      "metadata": {
        "collapsed": false
      },
      "outputs": [],
      "source": [
        "import pygmt\n\nfig = pygmt.Figure()\nfig.coast(\n    shorelines=\"1/0.5p\",\n    region=[-180, -20, 0, 90],\n    projection=\"Poly/12c\",\n    land=\"gray\",\n    borders=\"1/thick,black\",\n    frame=\"afg10\",\n)\n\nfig.show()"
      ]
    }
  ],
  "metadata": {
    "kernelspec": {
      "display_name": "Python 3",
      "language": "python",
      "name": "python3"
    },
    "language_info": {
      "codemirror_mode": {
        "name": "ipython",
        "version": 3
      },
      "file_extension": ".py",
      "mimetype": "text/x-python",
      "name": "python",
      "nbconvert_exporter": "python",
      "pygments_lexer": "ipython3",
      "version": "3.9.2"
    }
  },
  "nbformat": 4,
  "nbformat_minor": 0
}