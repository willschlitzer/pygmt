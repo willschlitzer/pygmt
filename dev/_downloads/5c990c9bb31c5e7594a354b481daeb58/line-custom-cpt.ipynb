{
  "cells": [
    {
      "cell_type": "code",
      "execution_count": null,
      "metadata": {
        "collapsed": false
      },
      "outputs": [],
      "source": [
        "%matplotlib inline"
      ]
    },
    {
      "cell_type": "markdown",
      "metadata": {},
      "source": [
        "\n# Line colors with a custom CPT\n\nThe color of the lines made by :meth:`pygmt.Figure.plot` can be set according to a\ncustom CPT and assigned with the ``pen`` argument.\n\nThe custom CPT can be used by setting the plot command's ``cmap`` argument to ``True``. The\n``zvalue`` argument sets the z-value (color) to be used from the custom CPT, and the line\ncolor is set as the z-value by using **+z** when setting the ``pen`` color.\n"
      ]
    },
    {
      "cell_type": "code",
      "execution_count": null,
      "metadata": {
        "collapsed": false
      },
      "outputs": [],
      "source": [
        "import numpy as np\nimport pygmt\n\n# Create a list of values between 20 and 30 with at 0.2 intervals\nx = np.arange(start=20, stop=30, step=0.2)\n\nfig = pygmt.Figure()\nfig.basemap(frame=[\"WSne\", \"af\"], region=[20, 30, -10, 10])\n\n# Create a custom CPT with the batlow CPT and 10 discrete z-values (colors)\npygmt.makecpt(cmap=\"batlow\", series=[0, 10, 1])\n\n# Plot 10 lines and set a different z-value for each line\nfor zvalue in range(0, 10):\n    y = zvalue * np.sin(x)\n    fig.plot(x=x, y=y, cmap=True, zvalue=zvalue, pen=\"thick,+z,-\")\n# Color bar to show the custom CPT and the associated z-values\nfig.colorbar()\nfig.show()"
      ]
    }
  ],
  "metadata": {
    "kernelspec": {
      "display_name": "Python 3",
      "language": "python",
      "name": "python3"
    },
    "language_info": {
      "codemirror_mode": {
        "name": "ipython",
        "version": 3
      },
      "file_extension": ".py",
      "mimetype": "text/x-python",
      "name": "python",
      "nbconvert_exporter": "python",
      "pygments_lexer": "ipython3",
      "version": "3.9.2"
    }
  },
  "nbformat": 4,
  "nbformat_minor": 0
}