{
  "cells": [
    {
      "cell_type": "code",
      "execution_count": null,
      "metadata": {
        "collapsed": false
      },
      "outputs": [],
      "source": [
        "%matplotlib inline"
      ]
    },
    {
      "cell_type": "markdown",
      "metadata": {},
      "source": [
        "\n# Universal Transverse Mercator\n\nA particular subset of the transverse Mercator is the Universal Transverse Mercator\n(UTM) which was adopted by the US Army for large-scale military maps. Here, the globe\nis divided into 60 zones between 84\u00b0S and 84\u00b0N, most of which are 6 wide. Each of these\nUTM zones have their unique central meridian. Furthermore, each zone is divided into\nlatitude bands but these are not needed to specify the projection for most cases.\n\nIn order to minimize the distortion in any given zone, a scale factor of 0.9996 has\nbeen factored into the formulae. This makes the UTM projection a secant projection and\nnot a tangent projection like the transverse Mercator above. The scale only varies by\n1 part in 1,000 from true scale at equator. The ellipsoidal projection expressions are\naccurate for map areas that extend less than 10 away from the central meridian.\n\n**u**\\ *zone/scale* or **U**\\ *zone/width*\n\nthe projection is set with **u** or **U**. *zone* sets the zone for the figure, and\nthe figure size is set wtih *scale* or *width*.\n"
      ]
    },
    {
      "cell_type": "code",
      "execution_count": null,
      "metadata": {
        "collapsed": false
      },
      "outputs": [],
      "source": [
        "import pygmt\n\nfig = pygmt.Figure()\n# UTM Zone is set to 52R\nfig.coast(\n    region=[127.5, 128.5, 26, 27],\n    projection=\"U52R/12c\",\n    land=\"lightgreen\",\n    water=\"lightblue\",\n    shorelines=\"thinnest\",\n    frame=\"afg\",\n)\nfig.show()"
      ]
    }
  ],
  "metadata": {
    "kernelspec": {
      "display_name": "Python 3",
      "language": "python",
      "name": "python3"
    },
    "language_info": {
      "codemirror_mode": {
        "name": "ipython",
        "version": 3
      },
      "file_extension": ".py",
      "mimetype": "text/x-python",
      "name": "python",
      "nbconvert_exporter": "python",
      "pygments_lexer": "ipython3",
      "version": "3.9.2"
    }
  },
  "nbformat": 4,
  "nbformat_minor": 0
}