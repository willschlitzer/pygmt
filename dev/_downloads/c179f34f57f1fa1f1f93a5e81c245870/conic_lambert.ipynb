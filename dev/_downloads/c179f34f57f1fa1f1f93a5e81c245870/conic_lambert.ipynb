{
  "cells": [
    {
      "cell_type": "code",
      "execution_count": null,
      "metadata": {
        "collapsed": false
      },
      "outputs": [],
      "source": [
        "%matplotlib inline"
      ]
    },
    {
      "cell_type": "markdown",
      "metadata": {},
      "source": [
        "\n# Lambert Conic Conformal Projection\n\nThis conic projection was designed by the Alsatian mathematician Johann Heinrich\nLambert (1772) and has been used extensively for mapping of regions with predominantly\neast-west orientation, just like the Albers projection. Unlike the Albers projection,\nLambert\u2019s conformal projection is not equal-area. The parallels are arcs of circles\nwith a common origin, and meridians are the equally spaced radii of these circles. As\nwith Albers projection, it is only the two standard parallels that are distortion-free.\n\n**l**\\ *lon0/lat0*\\ /\\ *lat1/lat2*\\ */scale*\nor **L**\\ *lon0/lat0*\\ /\\ *lat1/lat2*\\ */width*\n\nThe projection is set with **l** or **L**. The projection center is set by *lon0/lat0*\nand two standard parallels for the map are set with *lat1/lat2*. The figure size is set\nwith *scale* or *width*.\n"
      ]
    },
    {
      "cell_type": "code",
      "execution_count": null,
      "metadata": {
        "collapsed": false
      },
      "outputs": [],
      "source": [
        "import pygmt\n\nfig = pygmt.Figure()\nfig.coast(\n    shorelines=\"1/0.5p\",\n    region=[-130, -70, 24, 52],\n    projection=\"L-100/35/33/45/12c\",\n    land=\"gray\",\n    borders=[\"1/thick,black\", \"2/thin,black\"],\n    frame=\"afg\",\n)\n\nfig.show()"
      ]
    }
  ],
  "metadata": {
    "kernelspec": {
      "display_name": "Python 3",
      "language": "python",
      "name": "python3"
    },
    "language_info": {
      "codemirror_mode": {
        "name": "ipython",
        "version": 3
      },
      "file_extension": ".py",
      "mimetype": "text/x-python",
      "name": "python",
      "nbconvert_exporter": "python",
      "pygments_lexer": "ipython3",
      "version": "3.9.2"
    }
  },
  "nbformat": 4,
  "nbformat_minor": 0
}