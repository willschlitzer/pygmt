{
  "cells": [
    {
      "cell_type": "code",
      "execution_count": null,
      "metadata": {
        "collapsed": false
      },
      "outputs": [],
      "source": [
        "%matplotlib inline"
      ]
    },
    {
      "cell_type": "markdown",
      "metadata": {},
      "source": [
        "\n# Transverse Mercator\n\nThe transverse Mercator was invented by Johann Heinrich Lambert in 1772. In this\nprojection the cylinder touches a meridian along which there is no distortion. The\ndistortion increases away from the central meridian and goes to infinity at 90\u00b0 from\ncenter. The central meridian, each meridian 90\u00b0 away from the center, and equator are\nstraight lines; other parallels and meridians are complex curves.\n\n**t**\\ *lon0/*\\ [*lat0/*\\ ]\\ *scale* or **T**\\ *lon0/*\\ [*lat0/*\\ ]\\ *width*\n\nThe projection is set with **t** or **T**. The central meridian is set\nby  *lon0*, the latitude of the origin is set by the optional *lat0*, and the figure\nsize is set with *scale* or *width*.\n"
      ]
    },
    {
      "cell_type": "code",
      "execution_count": null,
      "metadata": {
        "collapsed": false
      },
      "outputs": [],
      "source": [
        "import pygmt\n\nfig = pygmt.Figure()\nfig.coast(\n    region=[20, 50, 30, 45],\n    projection=\"T35/12c\",\n    land=\"lightbrown\",\n    water=\"seashell\",\n    shorelines=\"thinnest\",\n    frame=\"afg\",\n)\nfig.show()"
      ]
    }
  ],
  "metadata": {
    "kernelspec": {
      "display_name": "Python 3",
      "language": "python",
      "name": "python3"
    },
    "language_info": {
      "codemirror_mode": {
        "name": "ipython",
        "version": 3
      },
      "file_extension": ".py",
      "mimetype": "text/x-python",
      "name": "python",
      "nbconvert_exporter": "python",
      "pygments_lexer": "ipython3",
      "version": "3.9.2"
    }
  },
  "nbformat": 4,
  "nbformat_minor": 0
}