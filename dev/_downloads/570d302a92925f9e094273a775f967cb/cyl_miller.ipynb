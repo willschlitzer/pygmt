{
  "cells": [
    {
      "cell_type": "code",
      "execution_count": null,
      "metadata": {
        "collapsed": false
      },
      "outputs": [],
      "source": [
        "%matplotlib inline"
      ]
    },
    {
      "cell_type": "markdown",
      "metadata": {},
      "source": [
        "\n# Miller cylindrical\n\nThis cylindrical projection, presented by Osborn Maitland Miller of the American\nGeographic Society in 1942, is neither equal nor conformal. All meridians and\nparallels are straight lines. The projection was designed to be a compromise between\nMercator and other cylindrical projections. Specifically, Miller spaced the parallels\nby using Mercator\u2019s formula with 0.8 times the actual latitude, thus avoiding the\nsingular poles; the result was then divided by 0.8.\n\n**j**\\ [*lon0/*]\\ */scale* or **J**\\ [*lon0/*]\\ */width*\n\nThe projection is set with **j** or **J**. The central meridian is set by the\noptional *lon0*, and the figure size is set with *scale* or *width*.\n"
      ]
    },
    {
      "cell_type": "code",
      "execution_count": null,
      "metadata": {
        "collapsed": false
      },
      "outputs": [],
      "source": [
        "import pygmt\n\nfig = pygmt.Figure()\nfig.coast(\n    region=[-180, 180, -80, 80],\n    projection=\"J-65/12c\",\n    land=\"khaki\",\n    water=\"azure\",\n    shorelines=\"thinnest\",\n    frame=\"afg\",\n)\nfig.show()"
      ]
    }
  ],
  "metadata": {
    "kernelspec": {
      "display_name": "Python 3",
      "language": "python",
      "name": "python3"
    },
    "language_info": {
      "codemirror_mode": {
        "name": "ipython",
        "version": 3
      },
      "file_extension": ".py",
      "mimetype": "text/x-python",
      "name": "python",
      "nbconvert_exporter": "python",
      "pygments_lexer": "ipython3",
      "version": "3.9.2"
    }
  },
  "nbformat": 4,
  "nbformat_minor": 0
}